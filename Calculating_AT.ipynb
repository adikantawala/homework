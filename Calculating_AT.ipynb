{
 "cells": [
  {
   "cell_type": "code",
   "execution_count": 13,
   "metadata": {
    "collapsed": false
   },
   "outputs": [
    {
     "name": "stdout",
     "output_type": "stream",
     "text": [
      "AT content is: 0.6851851851851852\n"
     ]
    }
   ],
   "source": [
    "sequence = \"ACTGATCGATTACGTATAGTATTTGCTATCATACATATATATCGATGCGTTCAT\"\n",
    "length = len(sequence)\n",
    "\n",
    "A_count= sequence.count(\"A\")\n",
    "T_count = sequence.count(\"T\")\n",
    "#print (T_count) checking to see if works\n",
    "\n",
    "AT_count = A_count+T_count\n",
    "#print(AT_count)\n",
    "\n",
    "AT_ratio= AT_count/length\n",
    "print(\"AT content is: \" + str(AT_ratio))"
   ]
  },
  {
   "cell_type": "code",
   "execution_count": null,
   "metadata": {
    "collapsed": true
   },
   "outputs": [],
   "source": []
  }
 ],
 "metadata": {
  "anaconda-cloud": {},
  "kernelspec": {
   "display_name": "Python [conda root]",
   "language": "python",
   "name": "conda-root-py"
  },
  "language_info": {
   "codemirror_mode": {
    "name": "ipython",
    "version": 3
   },
   "file_extension": ".py",
   "mimetype": "text/x-python",
   "name": "python",
   "nbconvert_exporter": "python",
   "pygments_lexer": "ipython3",
   "version": "3.5.2"
  }
 },
 "nbformat": 4,
 "nbformat_minor": 2
}
