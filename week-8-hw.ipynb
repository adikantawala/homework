{
 "cells": [
  {
   "cell_type": "code",
   "execution_count": 1,
   "metadata": {
    "collapsed": false
   },
   "outputs": [],
   "source": [
    "#removing quotes in output \n",
    "my_file= open(\"pbdb_data.csv\", encoding = \"ISO-8859-15\")\n",
    "my_line= my_file.readlines()[18:]\n",
    "output= open(\"cleaned-canids.csv\",\"w\")\n",
    "\n",
    "for line in my_line: \n",
    "    line=line.replace('\"','')\n",
    "    output.write(line)\n",
    "    #print(line) \n",
    "output.close()\n",
    "\n",
    "# sorting species cut -d \",\" -f 6,7 cleaned-canids.csv |grep species | cut -d \",\" -f -1|sort |uniq"
   ]
  },
  {
   "cell_type": "code",
   "execution_count": 2,
   "metadata": {
    "collapsed": false
   },
   "outputs": [],
   "source": [
    "#function 1\n",
    "\n",
    "#basically repeating what we did in class but in function form \n",
    "def ages_for_species(filename):\n",
    "\n",
    "    from collections import defaultdict\n",
    "\n",
    "    species_ranges= defaultdict(list) #defining default dictionary\n",
    "\n",
    "    file_data= open(filename)\n",
    "    \n",
    "    file_lines= file_data.readlines()\n",
    "\n",
    "    for line in file_lines: \n",
    "    \n",
    "        \n",
    "        species_name=line.split(\",\")[5] \n",
    "        taxon_rank=line.split(\",\")[6] \n",
    "        #assuming both values were wanted for ages of fossils instead of averages likw how we did in class\n",
    "        max_age= line.split(\",\")[10] \n",
    "        min_age= line.split(\",\")[11]\n",
    "    \n",
    "        #mean_age = ((float(max_age))+(float(min_age))/2) #defining mean age like in class but commented out because not used\n",
    "    \n",
    "        if taxon_rank==\"species\":\n",
    "        \n",
    "            species_ranges[species_name].append(max_age)\n",
    "            species_ranges[species_name].append(min_age)\n",
    "        \n",
    "    return (species_ranges) \n",
    "#too long to actually print \n",
    "ages_for_species(\"cleaned-canids.csv\") \n",
    "temp = ages_for_species(\"cleaned-canids.csv\") \n",
    "# doing this so I can call the output in the other function because we need the dictionary "
   ]
  },
  {
   "cell_type": "code",
   "execution_count": 5,
   "metadata": {
    "collapsed": false
   },
   "outputs": [],
   "source": [
    "#function 2\n",
    "dict_species_ages = temp\n",
    "from collections import defaultdict\n",
    "\n",
    "def fossil_age(species_ages_dict, filename):\n",
    "  \n",
    "    output= open(filename, \"w\") \n",
    "    for keys, values in species_ages.items(): \n",
    "        min_age = min(values) \n",
    "        max_age = max(values) \n",
    "        genus = keys.split(\" \")[0] \n",
    "        \n",
    "        species = keys.split(\" \")[1] \n",
    "       #not sure if that correct way to go about this but idea came up with in office hours working with other students  \n",
    "       #since species should only be one split along the space  \n",
    "        output.write(genus+\",\"+species+\",\"+min_age+\",\"+max_age+\"\\n\")\n",
    "        \n",
    "    output.close()\n",
    "        \n",
    "    \n",
    "fossil_age(dict_species_ages, \"canids-ranges.csv\")"
   ]
  },
  {
   "cell_type": "code",
   "execution_count": 19,
   "metadata": {
    "collapsed": false
   },
   "outputs": [],
   "source": [
    "#function 3 \n",
    "\n",
    "\n",
    "dict_species_ages = temp\n",
    "def finding_longest_range(species_ages_dict):\n",
    "    from collections import defaultdict\n",
    "    species_ranges = defaultdict(list) \n",
    "    \n",
    "    for keys,values in species_ages_dict.items():        \n",
    "        min_age = min(values) \n",
    "        \n",
    "        max_age = max(values) \n",
    "        \n",
    "        longest_range= float(max_age) - float(min_age)\n",
    "        \n",
    "        species_ranges[keys].append(longest_range) \n",
    "#as far as I got in office hours and then I got stuck "
   ]
  },
  {
   "cell_type": "code",
   "execution_count": 20,
   "metadata": {
    "collapsed": false
   },
   "outputs": [],
   "source": [
    "finding_longest_range(temp)\n"
   ]
  },
  {
   "cell_type": "code",
   "execution_count": null,
   "metadata": {
    "collapsed": false
   },
   "outputs": [],
   "source": []
  },
  {
   "cell_type": "code",
   "execution_count": null,
   "metadata": {
    "collapsed": true
   },
   "outputs": [],
   "source": []
  }
 ],
 "metadata": {
  "anaconda-cloud": {},
  "kernelspec": {
   "display_name": "Python [conda root]",
   "language": "python",
   "name": "conda-root-py"
  },
  "language_info": {
   "codemirror_mode": {
    "name": "ipython",
    "version": 3
   },
   "file_extension": ".py",
   "mimetype": "text/x-python",
   "name": "python",
   "nbconvert_exporter": "python",
   "pygments_lexer": "ipython3",
   "version": "3.5.2"
  }
 },
 "nbformat": 4,
 "nbformat_minor": 2
}
