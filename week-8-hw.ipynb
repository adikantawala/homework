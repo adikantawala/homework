{
 "cells": [
  {
   "cell_type": "code",
   "execution_count": 2,
   "metadata": {
    "collapsed": false
   },
   "outputs": [],
   "source": [
    "#removing quotes in output \n",
    "my_file= open(\"pbdb_data.csv\", encoding = \"ISO-8859-15\")\n",
    "my_line= my_file.readlines()[18:]\n",
    "output= open(\"cleaned-canids.csv\",\"w\")\n",
    "\n",
    "for line in my_line: \n",
    "    line=line.replace('\"','')\n",
    "    output.write(line)\n",
    "    #print(line) \n",
    "output.close()\n",
    "\n",
    "# sorting species cut -d \",\" -f 6,7 cleaned-canids.csv |grep species | cut -d \",\" -f -1|sort |uniq"
   ]
  },
  {
   "cell_type": "code",
   "execution_count": 3,
   "metadata": {
    "collapsed": false
   },
   "outputs": [],
   "source": [
    "#function 1\n",
    "\n",
    "#basically repeating what we did in class but in function form \n",
    "def ages_for_species(filename):\n",
    "\n",
    "    from collections import defaultdict\n",
    "\n",
    "    species_ranges= defaultdict(list) #defining default dictionary\n",
    "\n",
    "    file_data= open(filename)\n",
    "    \n",
    "    file_lines= file_data.readlines()\n",
    "\n",
    "    for line in file_lines: \n",
    "    \n",
    "        \n",
    "        species_name=line.split(\",\")[5] \n",
    "        taxon_rank=line.split(\",\")[6] \n",
    "        #assuming both values were wanted for ages of fossils instead of averages likw how we did in class\n",
    "        max_age= line.split(\",\")[10] \n",
    "        min_age= line.split(\",\")[11]\n",
    "    \n",
    "        #mean_age = ((float(max_age))+(float(min_age))/2) #defining mean age like in class but commented out \n",
    "        #because not used\n",
    "    \n",
    "        if taxon_rank==\"species\":\n",
    "        \n",
    "            species_ranges[species_name].append(max_age)\n",
    "            species_ranges[species_name].append(min_age)\n",
    "        \n",
    "    return (species_ranges) \n",
    "#too long to actually print \n",
    "ages_for_species(\"cleaned-canids.csv\") \n",
    "temp = ages_for_species(\"cleaned-canids.csv\") \n",
    "# doing this so I can call the output in the other function because we need the dictionary "
   ]
  },
  {
   "cell_type": "code",
   "execution_count": 5,
   "metadata": {
    "collapsed": false
   },
   "outputs": [],
   "source": [
    "dict_species_ages = temp\n",
    "from collections import defaultdict\n",
    "\n",
    "def fossil_age(species_ages_dict, filename):\n",
    "  \n",
    "    output= open(filename, \"w\") \n",
    "    for keys, values in species_ages.items(): \n",
    "        min_age = min(values) \n",
    "        max_age = max(values) \n",
    "        genus = keys.split(\" \")[0] \n",
    "        \n",
    "        species = keys.split(\" \")[1] \n",
    "       #not sure if that correct way to go about this but idea came up with in office hours working with other students  \n",
    "        output.write(genus+\",\"+species+\",\"+min_age+\",\"+max_age+\"\\n\")\n",
    "        \n",
    "    output.close()\n",
    "        \n",
    "    \n",
    "fossil_age(dict_species_ages, \"canids-ranges.csv\")"
   ]
  },
  {
   "cell_type": "code",
   "execution_count": null,
   "metadata": {
    "collapsed": true
   },
   "outputs": [],
   "source": [
    "#function 3 \n",
    "\n"
   ]
  }
 ],
 "metadata": {
  "anaconda-cloud": {},
  "kernelspec": {
   "display_name": "Python [conda root]",
   "language": "python",
   "name": "conda-root-py"
  },
  "language_info": {
   "codemirror_mode": {
    "name": "ipython",
    "version": 3
   },
   "file_extension": ".py",
   "mimetype": "text/x-python",
   "name": "python",
   "nbconvert_exporter": "python",
   "pygments_lexer": "ipython3",
   "version": "3.5.2"
  }
 },
 "nbformat": 4,
 "nbformat_minor": 2
}
