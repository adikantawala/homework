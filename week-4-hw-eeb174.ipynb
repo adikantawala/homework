{
 "cells": [
  {
   "cell_type": "code",
   "execution_count": 2,
   "metadata": {
    "collapsed": false
   },
   "outputs": [
    {
     "name": "stdout",
     "output_type": "stream",
     "text": [
      "TGACTAGCTAATGCATATCATAAACGATAGTATGTATATATAGCTACGCAAGTA\n"
     ]
    }
   ],
   "source": [
    "#Complementing DNA\n",
    "dna = \"ACTGATCGATTACGTATAGTATTTGCTATCATACATATATATCGATGCGTTCAT\"\n",
    "#can't simply replace because you start replacing the new ones you just replaceced\n",
    "# replace function is case sensitive so this works because you can replace with lower case \n",
    "#and then convert whole string back to uppercase\n",
    "new_dna = dna.replace('A', 't')\n",
    "#print(new_dna)\n",
    "new_dna2 = new_dna.replace('T', 'a')\n",
    "#print(new_dna2)\n",
    "new_dna3 = new_dna2.replace('C', 'g')\n",
    "#print(new_dna3)\n",
    "new_dna4 = new_dna3.replace('G', 'c')\n",
    "#print(new_dna4)\n",
    "print(new_dna4.upper())"
   ]
  },
  {
   "cell_type": "code",
   "execution_count": 4,
   "metadata": {
    "collapsed": false
   },
   "outputs": [
    {
     "name": "stdout",
     "output_type": "stream",
     "text": [
      "fragment one length is: 22\n",
      "fragment 2 length is: 33\n"
     ]
    }
   ],
   "source": [
    "#Restriction fragment lengths\n",
    "dna = \"ACTGATCGATTACGTATAGTAGAATTCTATCATACATATATATCGATGCGTTCAT\"\n",
    "length1 = dna.find(\"GAATTC\") + 1\n",
    "length2 = len(dna) - length1\n",
    "print(\"fragment one length is: \" + str(length1))\n",
    "print(\"fragment 2 length is: \" + str(length2))"
   ]
  },
  {
   "cell_type": "code",
   "execution_count": 10,
   "metadata": {
    "collapsed": false
   },
   "outputs": [
    {
     "name": "stdout",
     "output_type": "stream",
     "text": [
      "ATCGATCGATCGATCGACTGACTAGTCATAGCTATGCATGTAGCTACTCGATCGATCGATCGAT\n",
      "TCATCGATCGATATCGATGCATCGACTACTAT\n",
      "78.04878048780488 is the percentage of the DNA sequence is coding\n"
     ]
    }
   ],
   "source": [
    "#Splicing out introns, part one\n",
    "dna =\"ATCGATCGATCGATCGACTGACTAGTCATAGCTATGCATGTAGCTACTCGATCGATCGATCGATCGATCGATCGATCGATCGATCATGCTATCATCGATCGATATCGATGCATCGACTACTAT\"\n",
    "exon1 = dna[0:64]\n",
    "exon2 = dna[91:]\n",
    "print(exon1)\n",
    "print(exon2)\n",
    "#print(exon1 + exon2)\n",
    "\n",
    "#Splicing out introns, part two\n",
    "coding_len=len(exon1+exon2)\n",
    "total_len=len(dna)\n",
    "final_answer= (100 * coding_len/total_len)\n",
    "print (str(final_answer) + \" is the percentage of the DNA sequence is coding\")"
   ]
  },
  {
   "cell_type": "code",
   "execution_count": 12,
   "metadata": {
    "collapsed": false
   },
   "outputs": [
    {
     "name": "stdout",
     "output_type": "stream",
     "text": [
      "ATCGATCGATCGATCGACTGACTAGTCATAGCTATGCATGTAGCTACTCGATCGATCGATCGATcgatcgatcgatcgatcgatcatgctaTCATCGATCGATATCGATGCATCGACTACTAT\n"
     ]
    }
   ],
   "source": [
    "#Splicing out introns, part three\n",
    "dna = \"ATCGATCGATCGATCGACTGACTAGTCATAGCTATGCATGTAGCTACTCGATCGATCGATCGATCGATCGATCGATCGATCGATCATGCTATCATCGATCGATATCGATGCATCGACTACTAT\"\n",
    "exon1 = dna[0:64]\n",
    "intron = dna[64:91]\n",
    "exon2 = dna[91:]\n",
    "print(exon1 + intron.lower() + exon2)"
   ]
  },
  {
   "cell_type": "code",
   "execution_count": 3,
   "metadata": {
    "collapsed": false,
    "scrolled": true
   },
   "outputs": [
    {
     "data": {
      "text/plain": [
       "27"
      ]
     },
     "execution_count": 3,
     "metadata": {},
     "output_type": "execute_result"
    }
   ],
   "source": [
    "#Splitting genomic DNA\n",
    "\n",
    "# opens the file and the reads the data into the variable dna \n",
    "file = open(\"genomic_dna.txt\")\n",
    "dna = file.read()\n",
    "#partitions the data into segments to make it easier to work with for this problem \n",
    "exon1 = dna[0:63]\n",
    "intron = dna[63:90]\n",
    "exon2 = dna[90:]\n",
    "#opens 2 files to write the infomation too\n",
    "coding_file = open(\"coding_dna.txt\", \"w\")\n",
    "noncoding_file = open(\"noncoding_dna.txt\", \"w\")\n",
    "#actually writes the information in this step to the open file\n",
    "coding_file.write(exon1 + exon2)\n",
    "noncoding_file.write(intron)"
   ]
  },
  {
   "cell_type": "code",
   "execution_count": 6,
   "metadata": {
    "collapsed": false
   },
   "outputs": [
    {
     "data": {
      "text/plain": [
       "33"
      ]
     },
     "execution_count": 6,
     "metadata": {},
     "output_type": "execute_result"
    }
   ],
   "source": [
    "#Writing a FASTA file\n",
    "\n",
    "# set the values of all the header variables\n",
    "title1 = \"ABC123\"\n",
    "title2 = \"DEF456\"\n",
    "title3 = \"HIJ789\"\n",
    "# set the values of all the sequence variables\n",
    "\n",
    "dna1= \"ATCGTACGATCGATCGATCGCTAGACGTATCG\"\n",
    "\n",
    "dna2= \"actgatcgacgatcgatcgatcacgact\"\n",
    "\n",
    "dna3= \"ACTGAC-ACTGT—ACTGTA----CATGTG\"\n",
    "\n",
    "# make a new file to hold the output\n",
    "output = open(\"sequences.fasta\", \"w\")\n",
    "# write the header and sequence for seq1\n",
    "output.write('>' + title1 + '\\n' + dna1 + '\\n')\n",
    "# write the header and uppercase sequences for seq2\n",
    "output.write('>' + title2 + '\\n' + dna2.upper() + '\\n')\n",
    "# write the header and sequence for seq3 with hyphens removed\n",
    "output.write('>' + title3 + '\\n' + dna3.replace('-', '') + '\\n')"
   ]
  },
  {
   "cell_type": "code",
   "execution_count": 9,
   "metadata": {
    "collapsed": false
   },
   "outputs": [
    {
     "name": "stdout",
     "output_type": "stream",
     "text": [
      "processed sequence with length 43\n",
      "processed sequence with length 38\n",
      "processed sequence with length 49\n",
      "processed sequence with length 34\n",
      "processed sequence with length 48\n"
     ]
    }
   ],
   "source": [
    "# Processing DNA in a file\n",
    "\n",
    "# open the input file\n",
    "file = open(\"input.txt\")\n",
    "# open the output file\n",
    "output = open(\"trimmed.txt\", \"w\")\n",
    "# go through the input file one line at a time\n",
    "for dna in file:\n",
    "    # get the substring from the 15th character to the end\n",
    "    trimmed_dna = dna[14:]\n",
    "    # print out the trimmed sequence\n",
    "    output.write(trimmed_dna)\n",
    "    # print out the length to the screen\n",
    "    print(\"processed sequence with length \" + str(len(trimmed_dna)))\n",
    "# close the output file\n",
    "output.close()"
   ]
  },
  {
   "cell_type": "code",
   "execution_count": 12,
   "metadata": {
    "collapsed": false
   },
   "outputs": [],
   "source": [
    "#Multiple exons from genomic DNA\n",
    "\n",
    "# open the genomic dna file and read the contents\n",
    "genomic_dna = open(\"genomic_dna.txt\").read()\n",
    "# open the exons locations file\n",
    "exon_locations = open(\"exons.txt\")\n",
    "# create a variable to hold the coding sequence\n",
    "sequence = \"\"\n",
    "# go through each line in the exon locations file\n",
    "for line in exon_locations:\n",
    "    # split the line using a comma\n",
    "    positions = line.split(',')\n",
    "    # get the start and stop positions\n",
    "    start = int(positions[0])\n",
    "    stop = int(positions[1])\n",
    "    # extract the exon from the genomic dna\n",
    "    exon = genomic_dna[start:stop]\n",
    "    # append the exon to the end of the current coding sequence\n",
    "    sequence = sequence + exon\n",
    "# write the coding sequence to an output file\n",
    "output = open(\"sequence.txt\", \"w\")\n",
    "output.write(sequence)\n",
    "output.close()\n",
    "# I wasn't able to solve myself but went back through and tried my best to learn from the solutions "
   ]
  },
  {
   "cell_type": "code",
   "execution_count": null,
   "metadata": {
    "collapsed": true
   },
   "outputs": [],
   "source": []
  }
 ],
 "metadata": {
  "anaconda-cloud": {},
  "kernelspec": {
   "display_name": "Python [conda root]",
   "language": "python",
   "name": "conda-root-py"
  },
  "language_info": {
   "codemirror_mode": {
    "name": "ipython",
    "version": 3
   },
   "file_extension": ".py",
   "mimetype": "text/x-python",
   "name": "python",
   "nbconvert_exporter": "python",
   "pygments_lexer": "ipython3",
   "version": "3.5.2"
  }
 },
 "nbformat": 4,
 "nbformat_minor": 2
}
