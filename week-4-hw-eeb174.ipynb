{
 "cells": [
  {
   "cell_type": "code",
   "execution_count": 2,
   "metadata": {
    "collapsed": false
   },
   "outputs": [
    {
     "name": "stdout",
     "output_type": "stream",
     "text": [
      "TGACTAGCTAATGCATATCATAAACGATAGTATGTATATATAGCTACGCAAGTA\n"
     ]
    }
   ],
   "source": [
    "#Complementing DNA\n",
    "dna = \"ACTGATCGATTACGTATAGTATTTGCTATCATACATATATATCGATGCGTTCAT\"\n",
    "#can't simply replace because you start replacing the new ones you just replaceced\n",
    "# replace function is case sensitive so this works because you can replace with lower case \n",
    "#and then convert whole string back to uppercase\n",
    "new_dna = dna.replace('A', 't')\n",
    "#print(new_dna)\n",
    "new_dna2 = new_dna.replace('T', 'a')\n",
    "#print(new_dna2)\n",
    "new_dna3 = new_dna2.replace('C', 'g')\n",
    "#print(new_dna3)\n",
    "new_dna4 = new_dna3.replace('G', 'c')\n",
    "#print(new_dna4)\n",
    "print(new_dna4.upper())"
   ]
  },
  {
   "cell_type": "code",
   "execution_count": 4,
   "metadata": {
    "collapsed": false
   },
   "outputs": [
    {
     "name": "stdout",
     "output_type": "stream",
     "text": [
      "fragment one length is: 22\n",
      "fragment 2 length is: 33\n"
     ]
    }
   ],
   "source": [
    "#Restriction fragment lengths\n",
    "dna = \"ACTGATCGATTACGTATAGTAGAATTCTATCATACATATATATCGATGCGTTCAT\"\n",
    "length1 = dna.find(\"GAATTC\") + 1\n",
    "length2 = len(dna) - length1\n",
    "print(\"fragment one length is: \" + str(length1))\n",
    "print(\"fragment 2 length is: \" + str(length2))"
   ]
  },
  {
   "cell_type": "code",
   "execution_count": 10,
   "metadata": {
    "collapsed": false
   },
   "outputs": [
    {
     "name": "stdout",
     "output_type": "stream",
     "text": [
      "ATCGATCGATCGATCGACTGACTAGTCATAGCTATGCATGTAGCTACTCGATCGATCGATCGAT\n",
      "TCATCGATCGATATCGATGCATCGACTACTAT\n",
      "78.04878048780488 is the percentage of the DNA sequence is coding\n"
     ]
    }
   ],
   "source": [
    "#Splicing out introns, part one\n",
    "dna =\"ATCGATCGATCGATCGACTGACTAGTCATAGCTATGCATGTAGCTACTCGATCGATCGATCGATCGATCGATCGATCGATCGATCATGCTATCATCGATCGATATCGATGCATCGACTACTAT\"\n",
    "exon1 = dna[0:64]\n",
    "exon2 = dna[91:]\n",
    "print(exon1)\n",
    "print(exon2)\n",
    "#print(exon1 + exon2)\n",
    "\n",
    "#Splicing out introns, part two\n",
    "coding_len=len(exon1+exon2)\n",
    "total_len=len(dna)\n",
    "final_answer= (100 * coding_len/total_len)\n",
    "print (str(final_answer) + \" is the percentage of the DNA sequence is coding\")"
   ]
  },
  {
   "cell_type": "code",
   "execution_count": 12,
   "metadata": {
    "collapsed": false
   },
   "outputs": [
    {
     "name": "stdout",
     "output_type": "stream",
     "text": [
      "ATCGATCGATCGATCGACTGACTAGTCATAGCTATGCATGTAGCTACTCGATCGATCGATCGATcgatcgatcgatcgatcgatcatgctaTCATCGATCGATATCGATGCATCGACTACTAT\n"
     ]
    }
   ],
   "source": [
    "#Splicing out introns, part three\n",
    "dna = \"ATCGATCGATCGATCGACTGACTAGTCATAGCTATGCATGTAGCTACTCGATCGATCGATCGATCGATCGATCGATCGATCGATCATGCTATCATCGATCGATATCGATGCATCGACTACTAT\"\n",
    "exon1 = dna[0:64]\n",
    "intron = dna[64:91]\n",
    "exon2 = dna[91:]\n",
    "print(exon1 + intron.lower() + exon2)"
   ]
  },
  {
   "cell_type": "code",
   "execution_count": 3,
   "metadata": {
    "collapsed": false,
    "scrolled": true
   },
   "outputs": [
    {
     "data": {
      "text/plain": [
       "27"
      ]
     },
     "execution_count": 3,
     "metadata": {},
     "output_type": "execute_result"
    }
   ],
   "source": [
    "file = open(\"genomic_dna.txt\")\n",
    "dna = file.read()\n",
    "\n",
    "exon1 = dna[0:63]\n",
    "intron = dna[63:90]\n",
    "exon2 = dna[90:]\n",
    "#extracts the diiferent segments of dna\n",
    " \n",
    "coding_file = open(\"coding_dna.txt\", \"w\")\n",
    "noncoding_file = open(\"noncoding_dna.txt\", \"w\")\n",
    "\n",
    "# write the sequences to the output files\n",
    "coding_file.write(exon1 + exon2)\n",
    "noncoding_file.write(intron)"
   ]
  },
  {
   "cell_type": "code",
   "execution_count": null,
   "metadata": {
    "collapsed": true
   },
   "outputs": [],
   "source": []
  }
 ],
 "metadata": {
  "anaconda-cloud": {},
  "kernelspec": {
   "display_name": "Python [conda root]",
   "language": "python",
   "name": "conda-root-py"
  },
  "language_info": {
   "codemirror_mode": {
    "name": "ipython",
    "version": 3
   },
   "file_extension": ".py",
   "mimetype": "text/x-python",
   "name": "python",
   "nbconvert_exporter": "python",
   "pygments_lexer": "ipython3",
   "version": "3.5.2"
  }
 },
 "nbformat": 4,
 "nbformat_minor": 2
}
