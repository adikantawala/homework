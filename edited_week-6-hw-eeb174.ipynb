{
 "cells": [
  {
   "cell_type": "markdown",
   "metadata": {},
   "source": [
    "### pictures were not showing up in markdown so I just put them into a new folder and pushed that instead"
   ]
  },
  {
   "cell_type": "code",
   "execution_count": null,
   "metadata": {
    "collapsed": true
   },
   "outputs": [],
   "source": []
  },
  {
   "cell_type": "code",
   "execution_count": 31,
   "metadata": {
    "collapsed": true
   },
   "outputs": [],
   "source": [
    "#given in files; just copied and pasted \n",
    "gencode = {\n",
    "    'ATA':'I', 'ATC':'I', 'ATT':'I', 'ATG':'M',\n",
    "    'ACA':'T', 'ACC':'T', 'ACG':'T', 'ACT':'T',\n",
    "    'AAC':'N', 'AAT':'N', 'AAA':'K', 'AAG':'K',\n",
    "    'AGC':'S', 'AGT':'S', 'AGA':'R', 'AGG':'R',\n",
    "    'CTA':'L', 'CTC':'L', 'CTG':'L', 'CTT':'L',\n",
    "    'CCA':'P', 'CCC':'P', 'CCG':'P', 'CCT':'P',\n",
    "    'CAC':'H', 'CAT':'H', 'CAA':'Q', 'CAG':'Q',\n",
    "    'CGA':'R', 'CGC':'R', 'CGG':'R', 'CGT':'R',\n",
    "    'GTA':'V', 'GTC':'V', 'GTG':'V', 'GTT':'V',\n",
    "    'GCA':'A', 'GCC':'A', 'GCG':'A', 'GCT':'A',\n",
    "    'GAC':'D', 'GAT':'D', 'GAA':'E', 'GAG':'E',\n",
    "    'GGA':'G', 'GGC':'G', 'GGG':'G', 'GGT':'G',\n",
    "    'TCA':'S', 'TCC':'S', 'TCG':'S', 'TCT':'S',\n",
    "    'TTC':'F', 'TTT':'F', 'TTA':'L', 'TTG':'L',\n",
    "    'TAC':'Y', 'TAT':'Y', 'TAA':'_', 'TAG':'_',\n",
    "    'TGC':'C', 'TGT':'C', 'TGA':'_', 'TGG':'W'}"
   ]
  },
  {
   "cell_type": "markdown",
   "metadata": {},
   "source": [
    "#split DNA into codons \n",
    "    #range will allow you to increment through; ignores extra nucleotides that are not part of set of 3\n",
    "#initialize the string\n",
    "#iterate through the dictionary to locate matches; done through for loop\n",
    "    #remeber to make all into upper to make matching easier\n",
    "#store amino acid; list? dictionary? string = string + new value?\n",
    "####################################\n",
    "\n",
    "def function_name(dna_sequence):\n",
    "    dna_len = len(dna_sequence)\n",
    "    string = \"\"\n",
    "    for iterator in range(0,dna_len,3):\n",
    "        string = string + match in gencode \n",
    "        return string\n",
    "\n",
    "- couldn't figure out how to fix if DNA sequence is not a multiple of 3; used book solution \n",
    "- didn't think about if amino acid doesn't exist"
   ]
  },
  {
   "cell_type": "code",
   "execution_count": 38,
   "metadata": {
    "collapsed": true
   },
   "outputs": [],
   "source": [
    "def translate_dna(dna_sequence):\n",
    "    non_3_tuple = len(dna_sequence) - 2\n",
    "    string = \"\"\n",
    "    for iterator in range(0,non_3_tuple,3):\n",
    "        codon = dna_sequence[iterator:iterator+3]\n",
    "        amino_acid = gencode.get(codon, 'X')\n",
    "        string = string + amino_acid\n",
    "    return string"
   ]
  },
  {
   "cell_type": "code",
   "execution_count": 42,
   "metadata": {
    "collapsed": false
   },
   "outputs": [
    {
     "name": "stdout",
     "output_type": "stream",
     "text": [
      "TXD\n"
     ]
    }
   ],
   "source": [
    "# # print(translate_dna(\"ATGTTCGGT\"))\n",
    "# # input sequence has incomplete codons at the end\n",
    "# # print(translate_dna(\"ATCGATCGAT\"))\n",
    "# # input sequence contains N\n",
    "# print(translate_dna(\"ACGANCGAT\"))"
   ]
  },
  {
   "cell_type": "code",
   "execution_count": null,
   "metadata": {
    "collapsed": true
   },
   "outputs": [],
   "source": []
  },
  {
   "cell_type": "code",
   "execution_count": 5,
   "metadata": {
    "collapsed": false
   },
   "outputs": [],
   "source": [
    "import scipy # for random numbers\n",
    "\n",
    "def build_population(N, p):\n",
    "    \"\"\"\n",
    "The population consists of N individuals.\n",
    "Each individual has two chromosomes, containing\n",
    "allele \"A\" or \"a\", with probability p and 1-p,\n",
    "respectively.\n",
    "\n",
    "The population is a list of tuples.\n",
    "    \"\"\"\n",
    "    population = []\n",
    "    for i in range(N):\n",
    "        allele1 = \"A\"\n",
    "        if scipy.random.rand() > p:\n",
    "            allele1 = \"a\"\n",
    "        allele2 = \"A\"\n",
    "        if scipy.random.rand() > p:\n",
    "            allele2 = \"a\"\n",
    "        population.append((allele1, allele2))\n",
    "    return population"
   ]
  },
  {
   "cell_type": "code",
   "execution_count": 30,
   "metadata": {
    "collapsed": false
   },
   "outputs": [
    {
     "data": {
      "text/plain": [
       "[('a', 'a'),\n",
       " ('a', 'A'),\n",
       " ('a', 'A'),\n",
       " ('a', 'A'),\n",
       " ('a', 'A'),\n",
       " ('A', 'A'),\n",
       " ('A', 'A'),\n",
       " ('A', 'A'),\n",
       " ('a', 'A'),\n",
       " ('A', 'a')]"
      ]
     },
     "execution_count": 30,
     "metadata": {},
     "output_type": "execute_result"
    }
   ],
   "source": [
    "In [3]: build_population(10, 0.7)\n"
   ]
  },
  {
   "cell_type": "code",
   "execution_count": 20,
   "metadata": {
    "collapsed": false
   },
   "outputs": [],
   "source": [
    "def compute_frequencies(population):\n",
    "    \"\"\" Count the genotypes.\n",
    "    Returns a dictionary with counts for each genotype.\n",
    "    \"\"\"\n",
    "    AA = population.count((\"A\", \"A\"))\n",
    "    Aa = population.count((\"A\", \"a\"))\n",
    "    aA = population.count((\"a\", \"A\"))\n",
    "    aa = population.count((\"a\", \"a\"))\n",
    "    return({\"AA\": AA,\n",
    "        \"aa\": aa,\n",
    "        \"Aa\": Aa,\n",
    "        \"aA\": aA})"
   ]
  },
  {
   "cell_type": "code",
   "execution_count": 29,
   "metadata": {
    "collapsed": false
   },
   "outputs": [
    {
     "data": {
      "text/plain": [
       "[('a', 'a'), ('A', 'A'), ('a', 'A'), ('A', 'A'), ('a', 'A'), ('A', 'A')]"
      ]
     },
     "execution_count": 29,
     "metadata": {},
     "output_type": "execute_result"
    }
   ],
   "source": [
    "In [5]: my_pop = build_population(6, 0.5)\n",
    "In [6]: my_pop # This might be different, as the values are random\n",
    "\n",
    "In [7]: compute_frequencies(my_pop)\n"
   ]
  },
  {
   "cell_type": "code",
   "execution_count": 26,
   "metadata": {
    "collapsed": false
   },
   "outputs": [],
   "source": [
    "def reproduce_population(population):\n",
    "    \"\"\" Create a new generation through sexual reproduction\n",
    "    For each of N new offspring:\n",
    "    - Choose the parents at random\n",
    "    - The offspring receives a chromosomes from each of\n",
    "    the parents\n",
    "    \"\"\"\n",
    "    new_generation = []\n",
    "    N = len(population)\n",
    "    for i in range(N):\n",
    "        dad = scipy.random.randint(N) # random integer between 0 and N-1\n",
    "        mom = scipy.random.randint(N)\n",
    "        chr_mom = scipy.random.randint(2) # which chromosome comes from mom\n",
    "        offspring = (population[mom][chr_mom], population[\n",
    "            dad][1 - chr_mom])\n",
    "        new_generation.append(offspring)\n",
    "    return(new_generation)"
   ]
  },
  {
   "cell_type": "code",
   "execution_count": null,
   "metadata": {
    "collapsed": true
   },
   "outputs": [],
   "source": [
    "#test"
   ]
  }
 ],
 "metadata": {
  "anaconda-cloud": {},
  "kernelspec": {
   "display_name": "Python [conda root]",
   "language": "python",
   "name": "conda-root-py"
  },
  "language_info": {
   "codemirror_mode": {
    "name": "ipython",
    "version": 3
   },
   "file_extension": ".py",
   "mimetype": "text/x-python",
   "name": "python",
   "nbconvert_exporter": "python",
   "pygments_lexer": "ipython3",
   "version": "3.5.2"
  }
 },
 "nbformat": 4,
 "nbformat_minor": 2
}
